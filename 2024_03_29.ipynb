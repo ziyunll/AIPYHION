{
  "nbformat": 4,
  "nbformat_minor": 0,
  "metadata": {
    "colab": {
      "provenance": []
    },
    "kernelspec": {
      "name": "python3",
      "display_name": "Python 3"
    },
    "language_info": {
      "name": "python"
    }
  },
  "cells": [
    {
      "cell_type": "code",
      "execution_count": 21,
      "metadata": {
        "colab": {
          "base_uri": "https://localhost:8080/"
        },
        "id": "aaVsluVgBdAP",
        "outputId": "fc146b30-5ff6-4800-bbd0-09fb8ae87275"
      },
      "outputs": [
        {
          "output_type": "stream",
          "name": "stdout",
          "text": [
            "분을 입력하세요: 100\n",
            "100 -> 1시간 40분\n"
          ]
        }
      ],
      "source": [
        "# 분을 입력받아서 시간과 분을 출력하시오. (.format 메소드 활용)\n",
        "# 분 입력 받기\n",
        "minutes = int(input(\"분을 입력하세요: \"))\n",
        "\n",
        "# 시간과 분 계산\n",
        "hours = minutes // 60  # 분을 시간으로 변환\n",
        "remaining_minutes = minutes % 60  # 시간으로 변환 후 남은 분 계산\n",
        "\n",
        "# 결과 출력\n",
        "print(\"{:d} -> {:d}시간 {:d}분\".format(minutes, hours, remaining_minutes))"
      ]
    },
    {
      "cell_type": "code",
      "source": [
        "# 섭씨 온도를 입력받아서 화씨온도를 출력하시오(%연산자 활용)\n",
        "# 섭씨 온도 입력 받기\n",
        "C = float(input(\"섭씨 온도를 입력하세요: \"))\n",
        "\n",
        "# 화씨 온도 계산\n",
        "F = (C * 1.8) + 32\n",
        "\n",
        "# 결과 출력\n",
        "print(\"섭씨 %d도는 화씨 %.1f도 입니다.\" %(C,F))"
      ],
      "metadata": {
        "colab": {
          "base_uri": "https://localhost:8080/"
        },
        "id": "p1DpMpevCKyr",
        "outputId": "ab72bed4-2da6-44c3-a207-2a69b74d8bbf"
      },
      "execution_count": 11,
      "outputs": [
        {
          "output_type": "stream",
          "name": "stdout",
          "text": [
            "섭씨 온도를 입력하세요: 31\n",
            "섭씨 31도는 화씨 87.8도 입니다.\n"
          ]
        }
      ]
    },
    {
      "cell_type": "code",
      "source": [
        "# 원의 반지름을 입력받아서 원의 둘레와 면적을 출력하시오(PI=3.14)\n",
        "# 상수 정의\n",
        "PI = 3.14\n",
        "\n",
        "# 반지름 입력 받기\n",
        "radius = int(input(\"원의 반지름을 입력하세요: \"))\n",
        "\n",
        "# 원의 둘레와 면적 계산\n",
        "circumference = 2 * pi * radius\n",
        "area = pi * (radius ** 2)\n",
        "\n",
        "# 결과출력\n",
        "print(\"반지름이 {}인 원의 둘레 {} 이고 면적은 {}입니다.\".format(radius, circumference, area))\n"
      ],
      "metadata": {
        "colab": {
          "base_uri": "https://localhost:8080/"
        },
        "id": "LMxysrohEoO6",
        "outputId": "b36534fb-9340-4996-c141-df99e913f82a"
      },
      "execution_count": 23,
      "outputs": [
        {
          "output_type": "stream",
          "name": "stdout",
          "text": [
            "원의 반지름을 입력하세요: 15\n",
            "반지름이 15인 원의 둘레 94.2 이고 면적은 706.5입니다.\n"
          ]
        }
      ]
    }
  ]
}