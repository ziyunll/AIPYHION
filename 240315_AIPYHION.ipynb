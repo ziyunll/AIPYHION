{
  "nbformat": 4,
  "nbformat_minor": 0,
  "metadata": {
    "colab": {
      "provenance": []
    },
    "kernelspec": {
      "name": "python3",
      "display_name": "Python 3"
    },
    "language_info": {
      "name": "python"
    }
  },
  "cells": [
    {
      "cell_type": "markdown",
      "source": [
        "**두수를 입력받아서 합을 출력하는 프로그램**"
      ],
      "metadata": {
        "id": "DAfRi7Jd_-ED"
      }
    },
    {
      "cell_type": "code",
      "execution_count": 4,
      "metadata": {
        "colab": {
          "base_uri": "https://localhost:8080/"
        },
        "id": "d95OM5Se-khx",
        "outputId": "bbad07dc-2dff-4c8b-e3e6-fd6403c83286"
      },
      "outputs": [
        {
          "output_type": "stream",
          "name": "stdout",
          "text": [
            "두 정수 A와 B를 입력하세요: 100 200\n",
            "두 정수의 합은:  300\n"
          ]
        }
      ],
      "source": [
        "A, B = map(int, input(\"두 정수 A와 B를 입력하세요: \").split())\n",
        "result = A + B\n",
        "print(\"두 정수의 합은: \", result)"
      ]
    },
    {
      "cell_type": "code",
      "source": [
        "print(\"Hello Python\")"
      ],
      "metadata": {
        "colab": {
          "base_uri": "https://localhost:8080/"
        },
        "id": "_vb9CHX-_emj",
        "outputId": "d899ef3f-da1f-4508-9e7a-6cb9c54829a3"
      },
      "execution_count": 3,
      "outputs": [
        {
          "output_type": "stream",
          "name": "stdout",
          "text": [
            "Hello Python\n"
          ]
        }
      ]
    },
    {
      "cell_type": "code",
      "source": [],
      "metadata": {
        "id": "o0zIdvQm_mIC"
      },
      "execution_count": null,
      "outputs": []
    }
  ]
}