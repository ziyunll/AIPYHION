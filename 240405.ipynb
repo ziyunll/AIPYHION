{
  "nbformat": 4,
  "nbformat_minor": 0,
  "metadata": {
    "colab": {
      "provenance": []
    },
    "kernelspec": {
      "name": "python3",
      "display_name": "Python 3"
    },
    "language_info": {
      "name": "python"
    }
  },
  "cells": [
    {
      "cell_type": "code",
      "execution_count": 4,
      "metadata": {
        "colab": {
          "base_uri": "https://localhost:8080/"
        },
        "id": "rF__hDN_3o8z",
        "outputId": "b56f3836-419c-443a-bdba-d5a7cbd01bb5"
      },
      "outputs": [
        {
          "output_type": "stream",
          "name": "stdout",
          "text": [
            "A는 5보다 크다\n",
            "프로그램종료\n"
          ]
        }
      ],
      "source": [
        "a=10\n",
        "if a>5:\n",
        "  print(\"A는 5보다 크다\")\n",
        "print(\"프로그램종료\")"
      ]
    },
    {
      "cell_type": "code",
      "source": [
        "a=10\n",
        "if a>5:\n",
        "    print(\"a는 5보다 크다\")\n",
        "elif a<=5:\n",
        "    print(\"a는 5이하입니다\")"
      ],
      "metadata": {
        "colab": {
          "base_uri": "https://localhost:8080/"
        },
        "id": "-FWEHF6n49Na",
        "outputId": "77e67b4a-be83-40ee-d21c-75ff282287d1"
      },
      "execution_count": 5,
      "outputs": [
        {
          "output_type": "stream",
          "name": "stdout",
          "text": [
            "a는 5보다 크다\n"
          ]
        }
      ]
    },
    {
      "cell_type": "code",
      "source": [
        "a=5\n",
        "if a>5:\n",
        "    print(\"A는 5보다 크다\")\n",
        "elif a<5:\n",
        "    print(\"A는 5보다 작다\")\n",
        "else:\n",
        "    print(\"A는 5이다\")"
      ],
      "metadata": {
        "colab": {
          "base_uri": "https://localhost:8080/"
        },
        "id": "F0rKW-ku7m-I",
        "outputId": "6963ab26-5a42-411c-aeb6-3135d5964838"
      },
      "execution_count": 19,
      "outputs": [
        {
          "output_type": "stream",
          "name": "stdout",
          "text": [
            "A는 5이다\n"
          ]
        }
      ]
    },
    {
      "cell_type": "markdown",
      "source": [
        "#a에 할당된 값의 짝수 홀수 여부를 알려주는 프로그램\n"
      ],
      "metadata": {
        "id": "qMEmPyCN5moR"
      }
    },
    {
      "cell_type": "code",
      "source": [
        "a=5\n",
        "if a%2 == 0:\n",
        "    print(\"a는 짝수이다\")\n",
        "elif a%2 == 1:\n",
        "    print(\"a는 홀수이다\")\n",
        "\n",
        "#교수님은 elif a%2! == 0: or else 라고 하셨음."
      ],
      "metadata": {
        "colab": {
          "base_uri": "https://localhost:8080/"
        },
        "id": "S8RFAAkT5uHh",
        "outputId": "b37ed783-e37a-40a9-b5e3-4ed739b0473c"
      },
      "execution_count": 14,
      "outputs": [
        {
          "output_type": "stream",
          "name": "stdout",
          "text": [
            "a는 홀수이다\n"
          ]
        }
      ]
    },
    {
      "cell_type": "code",
      "source": [
        "a=10\n",
        "b=5\n",
        "if a>5:\n",
        "    if b<10:\n",
        "      print(\"a는 5보다 크고 b는 10보다 작다\")"
      ],
      "metadata": {
        "colab": {
          "base_uri": "https://localhost:8080/"
        },
        "id": "GjVHYcng9Gy_",
        "outputId": "c3dc1239-be6d-498b-f7af-d9c0e720a514"
      },
      "execution_count": 22,
      "outputs": [
        {
          "output_type": "stream",
          "name": "stdout",
          "text": [
            "a는 5보다 크고 b는 10보다 작다\n"
          ]
        }
      ]
    },
    {
      "cell_type": "code",
      "source": [
        "a=10\n",
        "b=5\n",
        "if a>5 and b<10:\n",
        "    print(\"a는 5보다 크고 b는 10보다 작다\")\n",
        "\n",
        "# 위와 이거는 동일함. 다만 위의 것은 중첩조건문이다. 중첩으로 표시할건지 아닌지의 차이임."
      ],
      "metadata": {
        "colab": {
          "base_uri": "https://localhost:8080/"
        },
        "id": "gEW6URV_9bBH",
        "outputId": "a1adc80c-e1fd-4939-b5d3-5195a6075880"
      },
      "execution_count": 24,
      "outputs": [
        {
          "output_type": "stream",
          "name": "stdout",
          "text": [
            "a는 5보다 크고 b는 10보다 작다\n"
          ]
        }
      ]
    },
    {
      "cell_type": "markdown",
      "source": [
        "0~100점수를 입력받아서\n",
        "\n",
        "90점이상 A\n",
        "\n",
        "80점이상 B\n",
        "\n",
        "70점이상 C\n",
        "\n",
        "60점이상 D\n",
        "\n",
        "그외 F"
      ],
      "metadata": {
        "id": "DNg2Ye009-P5"
      }
    },
    {
      "cell_type": "code",
      "source": [
        "a=85\n",
        "if a >= 90:\n",
        "    print(\"A\")\n",
        "elif a >= 80:\n",
        "    print(\"B\")\n",
        "elif a >= 70:\n",
        "    print(\"C\")\n",
        "elif a >= 60:\n",
        "    print(\"D\")\n",
        "else:\n",
        "    print(\"F\")"
      ],
      "metadata": {
        "colab": {
          "base_uri": "https://localhost:8080/"
        },
        "id": "bvg8h_O7-MRH",
        "outputId": "e77e72bc-e3a1-42c6-fef2-74cef3832d70"
      },
      "execution_count": 29,
      "outputs": [
        {
          "output_type": "stream",
          "name": "stdout",
          "text": [
            "B\n"
          ]
        }
      ]
    },
    {
      "cell_type": "code",
      "source": [
        "#교수님 답안\n",
        "\n",
        "score = 70\n",
        "\n",
        "\n",
        "if score >= 90:\n",
        "    grade = \"A\"\n",
        "elif score >= 80:\n",
        "    grade = \"B\"\n",
        "elif score >= 70:\n",
        "    grade = \"C\"\n",
        "elif score >= 60:\n",
        "    grade = \"D\"\n",
        "else:\n",
        "    grade = \"F\"\n",
        "\n",
        "print(grade)\n"
      ],
      "metadata": {
        "colab": {
          "base_uri": "https://localhost:8080/"
        },
        "id": "htlgbbNT_1Cn",
        "outputId": "32801638-7c78-410c-e70b-053c164f8cb4"
      },
      "execution_count": 33,
      "outputs": [
        {
          "output_type": "stream",
          "name": "stdout",
          "text": [
            "C\n"
          ]
        }
      ]
    },
    {
      "cell_type": "code",
      "source": [
        "a=[1,2,3,4,5]\n",
        "for i in a:\n",
        "  print(i)"
      ],
      "metadata": {
        "colab": {
          "base_uri": "https://localhost:8080/"
        },
        "id": "pn1K36DWE7QH",
        "outputId": "eec23966-7446-4898-9c63-f2e4f530c203"
      },
      "execution_count": 34,
      "outputs": [
        {
          "output_type": "stream",
          "name": "stdout",
          "text": [
            "1\n",
            "2\n",
            "3\n",
            "4\n",
            "5\n"
          ]
        }
      ]
    },
    {
      "cell_type": "code",
      "source": [
        "#결과가 옆으로 출력\n",
        "\n",
        "a=[1,2,3,4,5]\n",
        "for i in a:\n",
        "  print(i,end='')"
      ],
      "metadata": {
        "colab": {
          "base_uri": "https://localhost:8080/"
        },
        "id": "PllP8JRgFZsl",
        "outputId": "5171fed3-b292-472c-b54e-108ef37dbfb5"
      },
      "execution_count": 35,
      "outputs": [
        {
          "output_type": "stream",
          "name": "stdout",
          "text": [
            "12345"
          ]
        }
      ]
    },
    {
      "cell_type": "code",
      "source": [
        "a=[1,2,3,4,5,6,7,8,9,10]\n",
        "tot=0\n",
        "for i in a:\n",
        "  print(i)\n",
        "  tot+=i\n",
        "print(tot)"
      ],
      "metadata": {
        "colab": {
          "base_uri": "https://localhost:8080/"
        },
        "id": "LfoqXxRLFqiU",
        "outputId": "e14cd2c6-971e-4659-9d80-a0bbd7a8a656"
      },
      "execution_count": 41,
      "outputs": [
        {
          "output_type": "stream",
          "name": "stdout",
          "text": [
            "1\n",
            "2\n",
            "3\n",
            "4\n",
            "5\n",
            "6\n",
            "7\n",
            "8\n",
            "9\n",
            "10\n",
            "55\n"
          ]
        }
      ]
    },
    {
      "cell_type": "code",
      "source": [
        "for i in range(1,11):\n",
        "    print(i)"
      ],
      "metadata": {
        "colab": {
          "base_uri": "https://localhost:8080/"
        },
        "id": "XQxepGtFHKyU",
        "outputId": "caa57cf0-ff7d-45aa-ceb5-99bda8d454da"
      },
      "execution_count": 44,
      "outputs": [
        {
          "output_type": "stream",
          "name": "stdout",
          "text": [
            "1\n",
            "2\n",
            "3\n",
            "4\n",
            "5\n",
            "6\n",
            "7\n",
            "8\n",
            "9\n",
            "10\n"
          ]
        }
      ]
    },
    {
      "cell_type": "code",
      "source": [
        "for i in range(11):\n",
        "    print(i)"
      ],
      "metadata": {
        "colab": {
          "base_uri": "https://localhost:8080/"
        },
        "id": "eESar-YeH-dn",
        "outputId": "0fc96a04-384d-4226-fced-b0bbc1af93ba"
      },
      "execution_count": 45,
      "outputs": [
        {
          "output_type": "stream",
          "name": "stdout",
          "text": [
            "0\n",
            "1\n",
            "2\n",
            "3\n",
            "4\n",
            "5\n",
            "6\n",
            "7\n",
            "8\n",
            "9\n",
            "10\n"
          ]
        }
      ]
    },
    {
      "cell_type": "code",
      "source": [
        "for i in range(1,11,2):\n",
        "    print(i)"
      ],
      "metadata": {
        "colab": {
          "base_uri": "https://localhost:8080/"
        },
        "id": "KpvaMqy4IKC8",
        "outputId": "e4d927eb-855a-4eac-d73c-eb0a90db862f"
      },
      "execution_count": 46,
      "outputs": [
        {
          "output_type": "stream",
          "name": "stdout",
          "text": [
            "1\n",
            "3\n",
            "5\n",
            "7\n",
            "9\n"
          ]
        }
      ]
    },
    {
      "cell_type": "code",
      "source": [
        "#1부터 100까지 홀수 출력\n",
        "\n",
        "for i in range(1,100,2):\n",
        "  print(i)"
      ],
      "metadata": {
        "colab": {
          "base_uri": "https://localhost:8080/"
        },
        "id": "d5SlQ4RuIU9s",
        "outputId": "ed5726ea-e76f-46f4-9470-067768cdf27a"
      },
      "execution_count": 48,
      "outputs": [
        {
          "output_type": "stream",
          "name": "stdout",
          "text": [
            "1\n",
            "3\n",
            "5\n",
            "7\n",
            "9\n",
            "11\n",
            "13\n",
            "15\n",
            "17\n",
            "19\n",
            "21\n",
            "23\n",
            "25\n",
            "27\n",
            "29\n",
            "31\n",
            "33\n",
            "35\n",
            "37\n",
            "39\n",
            "41\n",
            "43\n",
            "45\n",
            "47\n",
            "49\n",
            "51\n",
            "53\n",
            "55\n",
            "57\n",
            "59\n",
            "61\n",
            "63\n",
            "65\n",
            "67\n",
            "69\n",
            "71\n",
            "73\n",
            "75\n",
            "77\n",
            "79\n",
            "81\n",
            "83\n",
            "85\n",
            "87\n",
            "89\n",
            "91\n",
            "93\n",
            "95\n",
            "97\n",
            "99\n"
          ]
        }
      ]
    },
    {
      "cell_type": "code",
      "source": [
        "#1에서 100까지 짝수 출력, 가운데를 100으로 주면 100은 출력 안되니 101로 씀. 맨 앞 숫자부터 시작이니까 맨 앞 숫자도 2\n",
        "\n",
        "for i in range(2,101,2):\n",
        "  print(i)"
      ],
      "metadata": {
        "id": "oNR4MbUzIha1"
      },
      "execution_count": null,
      "outputs": []
    },
    {
      "cell_type": "code",
      "source": [
        "# 들여쓰기 주의하기! 조금만 달라도 오류뜸\n",
        "\n",
        "for i in range(1,101):\n",
        "  if i%2 == 0:\n",
        "      continue\n",
        "  print(i)"
      ],
      "metadata": {
        "colab": {
          "base_uri": "https://localhost:8080/"
        },
        "id": "gszQvcJfI0RF",
        "outputId": "13f007fb-96df-4d03-93d6-04d899a0d508"
      },
      "execution_count": 55,
      "outputs": [
        {
          "output_type": "stream",
          "name": "stdout",
          "text": [
            "1\n",
            "3\n",
            "5\n",
            "7\n",
            "9\n",
            "11\n",
            "13\n",
            "15\n",
            "17\n",
            "19\n",
            "21\n",
            "23\n",
            "25\n",
            "27\n",
            "29\n",
            "31\n",
            "33\n",
            "35\n",
            "37\n",
            "39\n",
            "41\n",
            "43\n",
            "45\n",
            "47\n",
            "49\n",
            "51\n",
            "53\n",
            "55\n",
            "57\n",
            "59\n",
            "61\n",
            "63\n",
            "65\n",
            "67\n",
            "69\n",
            "71\n",
            "73\n",
            "75\n",
            "77\n",
            "79\n",
            "81\n",
            "83\n",
            "85\n",
            "87\n",
            "89\n",
            "91\n",
            "93\n",
            "95\n",
            "97\n",
            "99\n"
          ]
        }
      ]
    },
    {
      "cell_type": "code",
      "source": [
        "for i in range(1,101):\n",
        "  if i%2 == 1:\n",
        "      continue\n",
        "  print(i)"
      ],
      "metadata": {
        "colab": {
          "base_uri": "https://localhost:8080/"
        },
        "id": "v9HbJ2VyJ-Fd",
        "outputId": "011d6fed-a997-409c-dc94-bf4268d23635"
      },
      "execution_count": 56,
      "outputs": [
        {
          "output_type": "stream",
          "name": "stdout",
          "text": [
            "2\n",
            "4\n",
            "6\n",
            "8\n",
            "10\n",
            "12\n",
            "14\n",
            "16\n",
            "18\n",
            "20\n",
            "22\n",
            "24\n",
            "26\n",
            "28\n",
            "30\n",
            "32\n",
            "34\n",
            "36\n",
            "38\n",
            "40\n",
            "42\n",
            "44\n",
            "46\n",
            "48\n",
            "50\n",
            "52\n",
            "54\n",
            "56\n",
            "58\n",
            "60\n",
            "62\n",
            "64\n",
            "66\n",
            "68\n",
            "70\n",
            "72\n",
            "74\n",
            "76\n",
            "78\n",
            "80\n",
            "82\n",
            "84\n",
            "86\n",
            "88\n",
            "90\n",
            "92\n",
            "94\n",
            "96\n",
            "98\n",
            "100\n"
          ]
        }
      ]
    },
    {
      "cell_type": "code",
      "source": [
        "#홀수가 나오는 순간에 break가 걸림\n",
        "\n",
        "for i in range(5):\n",
        "  if i%2 == 1:\n",
        "    break\n",
        "  print(i)"
      ],
      "metadata": {
        "colab": {
          "base_uri": "https://localhost:8080/"
        },
        "id": "jSKO-P-iKCp0",
        "outputId": "1bda9a0f-6af0-4cb1-8073-f2e409b115e3"
      },
      "execution_count": 57,
      "outputs": [
        {
          "output_type": "stream",
          "name": "stdout",
          "text": [
            "0\n"
          ]
        }
      ]
    },
    {
      "cell_type": "code",
      "source": [
        "# 1에서 10사이의 짝수의 값, 홀수의 값의 합을 따로 구해보시오\n",
        "\n",
        "짝수합=0\n",
        "홀수합=0\n",
        "for i in range(1,11):\n",
        "  if i%2==0:\n",
        "    짝수합+=i\n",
        "  else:\n",
        "    홀수합+=i\n",
        "print(짝수합)\n",
        "print(홀수합)"
      ],
      "metadata": {
        "colab": {
          "base_uri": "https://localhost:8080/"
        },
        "id": "TpTnaHMMKtWN",
        "outputId": "e187b951-746a-4f54-b059-ea25cb89b8bf"
      },
      "execution_count": 60,
      "outputs": [
        {
          "output_type": "stream",
          "name": "stdout",
          "text": [
            "30\n",
            "25\n"
          ]
        }
      ]
    },
    {
      "cell_type": "code",
      "source": [
        "# n의 값을 입력\n",
        "# 1부터 n까지 반복\n",
        "  # 합을 계산\n",
        "# 합을 출력\n",
        "\n",
        "n=3\n",
        "tot=0\n",
        "\n",
        "for i in range(1,n+1):\n",
        "\n",
        "  tot += i\n",
        "\n",
        "print(tot)\n"
      ],
      "metadata": {
        "colab": {
          "base_uri": "https://localhost:8080/"
        },
        "id": "XOxkhZtdNv-V",
        "outputId": "65aaa19b-e00c-49b7-ac0c-4a56b0a4956b"
      },
      "execution_count": 64,
      "outputs": [
        {
          "output_type": "stream",
          "name": "stdout",
          "text": [
            "6\n"
          ]
        }
      ]
    }
  ]
}