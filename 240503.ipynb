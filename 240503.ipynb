{
  "nbformat": 4,
  "nbformat_minor": 0,
  "metadata": {
    "colab": {
      "provenance": []
    },
    "kernelspec": {
      "name": "python3",
      "display_name": "Python 3"
    },
    "language_info": {
      "name": "python"
    }
  },
  "cells": [
    {
      "cell_type": "code",
      "execution_count": 7,
      "metadata": {
        "colab": {
          "base_uri": "https://localhost:8080/"
        },
        "id": "dssSK6VgFPZS",
        "outputId": "3c12fb86-7b2a-4cc6-9b09-4e9c34f5deea"
      },
      "outputs": [
        {
          "output_type": "execute_result",
          "data": {
            "text/plain": [
              "array([1, 3, 5, 7, 9])"
            ]
          },
          "metadata": {},
          "execution_count": 7
        }
      ],
      "source": [
        "#1 1부터 10까지(미포함)의 2걸음(step) 크기의 정수값 배열을 생성해보자.\n",
        "\n",
        "import numpy as np\n",
        "\n",
        "arr1 = np.arange(1,10,2)\n",
        "arr1 #print(arr1)"
      ]
    },
    {
      "cell_type": "code",
      "source": [
        "#2 모양이 (3,4)인 모든 값이 1인 배열을 생성해보자.\n",
        "\n",
        "import numpy as np\n",
        "\n",
        "arr2 = np.ones((3,4))\n",
        "arr2 #print(arr2)\n"
      ],
      "metadata": {
        "colab": {
          "base_uri": "https://localhost:8080/"
        },
        "id": "meNP_0tST5wA",
        "outputId": "8de59350-3d42-4876-d55d-449d1754f57d"
      },
      "execution_count": 9,
      "outputs": [
        {
          "output_type": "execute_result",
          "data": {
            "text/plain": [
              "array([[1., 1., 1., 1.],\n",
              "       [1., 1., 1., 1.],\n",
              "       [1., 1., 1., 1.]])"
            ]
          },
          "metadata": {},
          "execution_count": 9
        }
      ]
    },
    {
      "cell_type": "code",
      "source": [
        "#3 0과 1사이를 10등분하고자 할 때 등분값 배열을 생성해보자.\n",
        "\n",
        "import numpy as np\n",
        "\n",
        "arr3 = np.linspace(0,1,10)   # <--- 이때는 stop -1 만 해당되고 이런건 없는건지...?\n",
        "arr3   #print(arr3)"
      ],
      "metadata": {
        "colab": {
          "base_uri": "https://localhost:8080/"
        },
        "id": "hIzII6PdT9_I",
        "outputId": "5c067620-a761-400c-feae-3548a40abf08"
      },
      "execution_count": 10,
      "outputs": [
        {
          "output_type": "execute_result",
          "data": {
            "text/plain": [
              "array([0.        , 0.11111111, 0.22222222, 0.33333333, 0.44444444,\n",
              "       0.55555556, 0.66666667, 0.77777778, 0.88888889, 1.        ])"
            ]
          },
          "metadata": {},
          "execution_count": 10
        }
      ]
    },
    {
      "cell_type": "code",
      "source": [
        "# 1. A행렬을 생성해보자.\n",
        "\n",
        "A = np.array(\n",
        " [[ 1, 2, 3, 4, 5],\n",
        " [ 6, 7, 8, 9, 10],\n",
        " [11, 12, 13, 14, 15],\n",
        " [16, 17, 18, 19, 20],\n",
        " [21, 22, 23, 24, 25]])\n",
        "\n",
        "print(A)\n",
        "\n",
        "# 2. A의 모양(shape)을 출력해보자.\n",
        "print(A.shape)\n",
        "\n",
        "# 3. 19 값을 추출해보자.\n",
        "print(A[3,3])\n",
        "\n",
        "# 4. 슬라이싱을 이용하여 [[1, 2], [6, 7]] 값을 추출해보자   (★어려움)\n",
        "print(A[0:2,0:2])    #0은 생략가능\n",
        "\n",
        "# 5. 슬라이싱을 이용하여 [[19, 20], [24, 25]] 값을 추출해보자. (★어려움)\n",
        "print(A[-2:, -2:])\n",
        "\n",
        "# 6. 슬라이싱을 이용하여 0축의 첫 번째 행과 두 번째 행을 추출해보자. 0축: (★어려움)  0축이 뭔지...?\n",
        "print(A[0:2, :])\n",
        "\n",
        "# 7. 슬라이싱을 이용하여 1축의 마지막 열과 마지막 직전 열을 추출해보자. 1축: 행렬 다 포함(★어려움)\n",
        "print(A[:, -2:])"
      ],
      "metadata": {
        "colab": {
          "base_uri": "https://localhost:8080/"
        },
        "id": "4cyXuFEMXf13",
        "outputId": "fe4dee3f-7a86-4c36-adce-3697b41e00e4"
      },
      "execution_count": 25,
      "outputs": [
        {
          "output_type": "stream",
          "name": "stdout",
          "text": [
            "[[ 1  2  3  4  5]\n",
            " [ 6  7  8  9 10]\n",
            " [11 12 13 14 15]\n",
            " [16 17 18 19 20]\n",
            " [21 22 23 24 25]]\n",
            "(5, 5)\n",
            "19\n",
            "[[1 2]\n",
            " [6 7]]\n",
            "[[19 20]\n",
            " [24 25]]\n",
            "[[ 1  2  3  4  5]\n",
            " [ 6  7  8  9 10]]\n",
            "[[ 4  5]\n",
            " [ 9 10]\n",
            " [14 15]\n",
            " [19 20]\n",
            " [24 25]]\n"
          ]
        }
      ]
    },
    {
      "cell_type": "code",
      "source": [
        "# 1. A행렬을 생성해보자.\n",
        "\n",
        "\n",
        "arr=np.arange(1,37)\n",
        "arr_3d=arr.reshape(3,3,4)\n",
        "print(arr_3d)\n",
        "\n",
        "\n",
        "# 2. A 배열의 모양과 크기를 출력해보자.\n",
        "print(arr_3d.shape)\n",
        "print(arr_3d.size)\n",
        "\n",
        "# 3. A의 모양을 (3, 4, 3)로 변경해보자.\n",
        "arr_3d=arr.reshape(3,4,3)\n",
        "print(arr_3d)\n",
        "\n",
        "# 4. A를 1차원 배열로 구성해보자. flat 명령 쓰기\n",
        "print(arr_3d.flatten())\n"
      ],
      "metadata": {
        "colab": {
          "base_uri": "https://localhost:8080/"
        },
        "id": "lz01jkldbzY2",
        "outputId": "28751c79-cb1f-4f52-af38-99c8d661dbe6"
      },
      "execution_count": 33,
      "outputs": [
        {
          "output_type": "stream",
          "name": "stdout",
          "text": [
            "[[[ 1  2  3  4]\n",
            "  [ 5  6  7  8]\n",
            "  [ 9 10 11 12]]\n",
            "\n",
            " [[13 14 15 16]\n",
            "  [17 18 19 20]\n",
            "  [21 22 23 24]]\n",
            "\n",
            " [[25 26 27 28]\n",
            "  [29 30 31 32]\n",
            "  [33 34 35 36]]]\n",
            "(3, 3, 4)\n",
            "36\n",
            "[[[ 1  2  3]\n",
            "  [ 4  5  6]\n",
            "  [ 7  8  9]\n",
            "  [10 11 12]]\n",
            "\n",
            " [[13 14 15]\n",
            "  [16 17 18]\n",
            "  [19 20 21]\n",
            "  [22 23 24]]\n",
            "\n",
            " [[25 26 27]\n",
            "  [28 29 30]\n",
            "  [31 32 33]\n",
            "  [34 35 36]]]\n",
            "[ 1  2  3  4  5  6  7  8  9 10 11 12 13 14 15 16 17 18 19 20 21 22 23 24\n",
            " 25 26 27 28 29 30 31 32 33 34 35 36]\n"
          ]
        }
      ]
    }
  ]
}